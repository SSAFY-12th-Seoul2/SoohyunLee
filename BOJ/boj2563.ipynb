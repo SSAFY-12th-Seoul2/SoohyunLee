{
 "cells": [
  {
   "cell_type": "markdown",
   "metadata": {},
   "source": [
    "**[boj2563 색종이, 실버5](https://www.acmicpc.net/problem/2563)**"
   ]
  },
  {
   "cell_type": "code",
   "execution_count": 1,
   "metadata": {},
   "outputs": [
    {
     "name": "stdout",
     "output_type": "stream",
     "text": [
      "260\n"
     ]
    }
   ],
   "source": [
    "# 색종이, 실버5\n",
    "tc = int(input())\n",
    "arr = [[0] * 100 for i in range(100)]\n",
    "for _ in range(tc):\n",
    "    x, y = map(int, input().split())\n",
    "    for i in range(x, x+10): \n",
    "        for j in range(y, y+10):\n",
    "            arr[i][j] = 1\n",
    "    \n",
    "result = 0\n",
    "for i in range(100):\n",
    "    result += sum(arr[i])\n",
    "\n",
    "print(result)"
   ]
  },
  {
   "cell_type": "code",
   "execution_count": null,
   "metadata": {},
   "outputs": [],
   "source": []
  }
 ],
 "metadata": {
  "kernelspec": {
   "display_name": "Python 3",
   "language": "python",
   "name": "python3"
  },
  "language_info": {
   "codemirror_mode": {
    "name": "ipython",
    "version": 3
   },
   "file_extension": ".py",
   "mimetype": "text/x-python",
   "name": "python",
   "nbconvert_exporter": "python",
   "pygments_lexer": "ipython3",
   "version": "3.9.13"
  }
 },
 "nbformat": 4,
 "nbformat_minor": 2
}
