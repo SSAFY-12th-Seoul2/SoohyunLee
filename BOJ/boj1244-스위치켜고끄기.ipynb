{
 "cells": [
  {
   "cell_type": "markdown",
   "metadata": {},
   "source": [
    "**[boj1244. 스위치 켜고 끄기, 실버4](https://www.acmicpc.net/problem/1244)**"
   ]
  },
  {
   "cell_type": "markdown",
   "metadata": {},
   "source": [
    "성공 코드"
   ]
  },
  {
   "cell_type": "code",
   "execution_count": null,
   "metadata": {},
   "outputs": [],
   "source": [
    "pcs = int(input()) # 스위치 개수\n",
    "state = list(map(int, input().split())) # 스위치 상태\n",
    "people = int(input()) # 사람 수\n",
    "\n",
    "# 남학생의 스위치 동작\n",
    "def man(): \n",
    "    global num, pcs, state\n",
    "    for i in range(num-1, pcs, num):\n",
    "        state[i] = 1 - state[i]\n",
    "\n",
    "# 여학생의 스위치 동작\n",
    "def woman():\n",
    "    global num, state, pcs\n",
    "    start = num - 2\n",
    "    end = num\n",
    "\n",
    "    # 범위가 유효한지 확인\n",
    "    while start >= 0 and end < pcs and state[start] == state[end]:\n",
    "        start -= 1\n",
    "        end += 1\n",
    "\n",
    "    # 마지막으로 유효한 범위로 조정\n",
    "    start += 1\n",
    "    end -= 1\n",
    "\n",
    "    for i in range(start, end + 1):\n",
    "        state[i] = 1 - state[i]  # 상태 반전\n",
    "\n",
    "\n",
    "for _ in range(people):\n",
    "    sex, num = map(int, input().split())\n",
    "    if sex == 1:\n",
    "        man()\n",
    "    else:\n",
    "        woman()\n",
    "\n",
    "for i in range(0, len(state), 20):\n",
    "    print(*state[i:i+20])"
   ]
  },
  {
   "cell_type": "markdown",
   "metadata": {},
   "source": [
    "실패 코드"
   ]
  },
  {
   "cell_type": "code",
   "execution_count": null,
   "metadata": {},
   "outputs": [],
   "source": [
    "pcs = int(input()) # 스위치 개수\n",
    "state = list(map(int, input().split())) # 스위치 상태\n",
    "people = int(input()) # 사람 수\n",
    "\n",
    "# 남학생의 스위치 동작\n",
    "def man():\n",
    "    global num, pcs, state\n",
    "    for i in range(num-1, pcs, num):\n",
    "        if state[i] == 0:\n",
    "            state[i] = 1\n",
    "        else:\n",
    "            state[i] = 0\n",
    "\n",
    "# 여학생의 스위치 동작\n",
    "def woman():\n",
    "    global num, state, pcs\n",
    "    start = num - 2\n",
    "    end = num\n",
    "    if 0 <= start and end < pcs and state[start] == state[end]:\n",
    "        while state[start] == state[end]:\n",
    "            start -= 1\n",
    "            end += 1\n",
    "            if start == 0 or end == pcs - 1:\n",
    "                break\n",
    "        for i in range(start, end + 1):\n",
    "            if state[i] == 0:\n",
    "                state[i] = 1\n",
    "            else:\n",
    "                state[i] = 0\n",
    "    else:\n",
    "        pass\n",
    "\n",
    "\n",
    "for _ in range(people):\n",
    "    sex, num = map(int, input().split())\n",
    "    if sex == 1:\n",
    "        man()\n",
    "    else:\n",
    "        woman()\n",
    "\n",
    "if len(state) > 20:\n",
    "    state = state[:20]\n",
    "    print(*state)\n",
    "else:\n",
    "    print(*state)"
   ]
  },
  {
   "cell_type": "markdown",
   "metadata": {},
   "source": [
    "차이점\n",
    "- 남학생의 스위치 동작 로직 차이\n",
    "  - 조건문 사용한 상태 반전은 동일한 연산이지만 코드가 더 복잡해짐\n",
    "- 여학생의 스위치 동작 로직 차이\n",
    "  - 대칭 범위를 확장하는 과정에서 `start`와 `end`의 경계가 스위치의 처음 또는 끝에 도달하면 즉시 루프를 종료시키는데, 이는 범위를 제대로 조정하지 못하게 만듦.\n",
    "  - 따라서 잘못된 스위치 범위를 만들 수 있음\n",
    "  - 또한, 대칭 조건이 실패했을 경우 아무 동작을 하지 않도록 `pass`를 사용함. 이는 논리적으로 문제가 됨\n",
    "- 출력 방식의 차이\n",
    "  - 20개씩 출력인데 20개만 출력하도록 함"
   ]
  }
 ],
 "metadata": {
  "language_info": {
   "name": "python"
  }
 },
 "nbformat": 4,
 "nbformat_minor": 2
}
