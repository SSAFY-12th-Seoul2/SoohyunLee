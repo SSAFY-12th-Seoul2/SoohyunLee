{
 "cells": [
  {
   "cell_type": "markdown",
   "metadata": {},
   "source": [
    "**[ BOJ2635 수 이어가기, 실버5 ](https://www.acmicpc.net/problem/2635)**"
   ]
  },
  {
   "cell_type": "code",
   "execution_count": 1,
   "metadata": {},
   "outputs": [
    {
     "name": "stdout",
     "output_type": "stream",
     "text": [
      "8\n",
      "100 62 38 24 14 10 4 6\n"
     ]
    }
   ],
   "source": [
    "num = int(input()) # 1 <= num <= 30000\n",
    "max_size = 1\n",
    "# 양의 정수 중에서 하나를 선택\n",
    "for i in range(1, num+1):\n",
    "    arr = [num]\n",
    "    arr.append(i)\n",
    "    idx = 1\n",
    "    while True:\n",
    "        # 앞의 앞의 수에서 앞의 수를 빼서 만든다\n",
    "        value = arr[idx-1] - arr[idx]\n",
    "        # 음의 정수가 만들어지면, 이 음의 정수를 버리고 더 이상 수를 만들지 않는다.\n",
    "        if value < 0:\n",
    "            if max_size < len(arr):\n",
    "                max_size = len(arr)\n",
    "                result_arr = arr\n",
    "                break\n",
    "            break\n",
    "        else:\n",
    "            arr.append(value)\n",
    "            idx += 1\n",
    "\n",
    "print(max_size)\n",
    "print(*result_arr)"
   ]
  },
  {
   "cell_type": "code",
   "execution_count": null,
   "metadata": {},
   "outputs": [],
   "source": []
  }
 ],
 "metadata": {
  "kernelspec": {
   "display_name": "Python 3",
   "language": "python",
   "name": "python3"
  },
  "language_info": {
   "codemirror_mode": {
    "name": "ipython",
    "version": 3
   },
   "file_extension": ".py",
   "mimetype": "text/x-python",
   "name": "python",
   "nbconvert_exporter": "python",
   "pygments_lexer": "ipython3",
   "version": "3.9.13"
  }
 },
 "nbformat": 4,
 "nbformat_minor": 2
}
