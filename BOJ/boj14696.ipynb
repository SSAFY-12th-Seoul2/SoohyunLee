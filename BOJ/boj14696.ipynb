{
 "cells": [
  {
   "cell_type": "markdown",
   "metadata": {},
   "source": [
    "[boj14696 딱지놀이]"
   ]
  },
  {
   "cell_type": "code",
   "execution_count": 2,
   "metadata": {},
   "outputs": [
    {
     "name": "stdout",
     "output_type": "stream",
     "text": [
      "A\n",
      "B\n",
      "B\n",
      "A\n",
      "D\n"
     ]
    }
   ],
   "source": [
    "# 리스트 만들기\n",
    "def shape_count(arr, length):\n",
    "    cnt_list = [0] * 5\n",
    "    for c in arr:\n",
    "        cnt_list[c] += 1\n",
    "    return cnt_list[1:]\n",
    "\n",
    "# 게임 시작\n",
    "def game(arr1, arr2):\n",
    "    for idx in range(3, -1, -1):\n",
    "        if arr1[idx]-arr2[idx] > 0:\n",
    "            return 'A'\n",
    "        elif arr1[idx] - arr2[idx] < 0:\n",
    "            return 'B'\n",
    "    return 'D'\n",
    "        \n",
    "\n",
    "tc = int(input())\n",
    "for _ in range(tc):\n",
    "    A = list(map(int, input().split()))\n",
    "    B = list(map(int, input().split()))\n",
    "    len_a = A.pop(0)\n",
    "    len_b = B.pop(0)\n",
    "    cnt_list1 = shape_count(A, len_a)\n",
    "    cnt_list2 = shape_count(B, len_b)\n",
    "    result = game(cnt_list1, cnt_list2)\n",
    "    print(result)"
   ]
  },
  {
   "cell_type": "markdown",
   "metadata": {},
   "source": [
    "풀이과정\n",
    "<p align = 'center'>\n",
    "  <img src = '..\\image\\boj14696.jpg'>\n",
    "</p>"
   ]
  }
 ],
 "metadata": {
  "kernelspec": {
   "display_name": "Python 3",
   "language": "python",
   "name": "python3"
  },
  "language_info": {
   "codemirror_mode": {
    "name": "ipython",
    "version": 3
   },
   "file_extension": ".py",
   "mimetype": "text/x-python",
   "name": "python",
   "nbconvert_exporter": "python",
   "pygments_lexer": "ipython3",
   "version": "3.9.13"
  }
 },
 "nbformat": 4,
 "nbformat_minor": 2
}
