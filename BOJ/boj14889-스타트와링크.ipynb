{
 "cells": [
  {
   "cell_type": "markdown",
   "metadata": {},
   "source": [
    "스타트와 링크"
   ]
  },
  {
   "cell_type": "code",
   "execution_count": null,
   "metadata": {},
   "outputs": [],
   "source": [
    "import sys\n",
    "from itertools import combinations, permutations \n",
    "N = int(sys.stdin.readline())  # 사람 수\n",
    "S = [list(map(int, sys.stdin.readline().split())) for _ in range(N)]  # 능력치 배열\n",
    "\n",
    "number_set = set(range(N))  # 사람 번호\n",
    "team_start_list = list(combinations(range(N),N//2))  # 두 팀으로 나눔\n",
    "order_list = list(permutations(range(N//2), 2))  # 두 팀으로 나눠서 i,j를 구하기 위한 순서\n",
    "result = 100000\n",
    "\n",
    "for idx in range(len(team_start_list)):\n",
    "    team_start = set(team_start_list[idx])  # 스타트팀 하나 꺼내옴\n",
    "    team_link = list(number_set - team_start)  # 링크팀 생성\n",
    "    team_start = list(team_start)  # 능력치 구하기위해 list로 변환\n",
    "    sum_start = 0\n",
    "    sum_link = 0\n",
    "    for i_idx, j_idx in order_list:\n",
    "        i = team_start[i_idx]\n",
    "        j = team_start[j_idx]\n",
    "        sum_start += S[i][j]\n",
    "        i = team_link[i_idx]\n",
    "        j = team_link[j_idx]\n",
    "        sum_link += S[i][j]\n",
    "\n",
    "\n",
    "    result = min(result, abs(sum_start-sum_link))\n",
    "\n",
    "print(result)"
   ]
  },
  {
   "cell_type": "code",
   "execution_count": 8,
   "metadata": {},
   "outputs": [
    {
     "name": "stdout",
     "output_type": "stream",
     "text": [
      "(0, 1)\n",
      "(0, 2)\n",
      "(0, 3)\n",
      "(1, 2)\n",
      "(1, 3)\n",
      "(2, 3)\n"
     ]
    }
   ],
   "source": [
    "from itertools import combinations\n",
    "N = 8\n",
    "team_start_list = list(combinations(range(N//2), 2))\n",
    "for team in team_start_list:\n",
    "    print(team)"
   ]
  },
  {
   "cell_type": "code",
   "execution_count": 9,
   "metadata": {},
   "outputs": [
    {
     "name": "stdout",
     "output_type": "stream",
     "text": [
      "(0, 1)\n",
      "(1, 0)\n"
     ]
    }
   ],
   "source": [
    "from itertools import permutations \n",
    "N = 4\n",
    "order_list = list(permutations(range(N//2), 2))\n",
    "for order in order_list:\n",
    "    print(order)"
   ]
  },
  {
   "cell_type": "code",
   "execution_count": null,
   "metadata": {},
   "outputs": [],
   "source": [
    "### 2차\n",
    "\n",
    "import sys\n",
    "from itertools import combinations\n",
    "\n",
    "N = int(sys.stdin.readline())\n",
    "S = [list(map(int, sys.stdin.readline().split())) for _ in range(N)]\n",
    "\n",
    "def team_s(team):\n",
    "    # 해당 팀을 2명씩 골라서 sij, sji를 구함\n",
    "    return sum(S[i][j] + S[j][i] for i, j in combinations(team, 2))\n",
    "\n",
    "result = float('inf')\n",
    "for i, team in enumerate(combinations(range(N), N//2)):\n",
    "    start = team\n",
    "    link = tuple(set(range(N)) - set(team))\n",
    "    power_diff = abs(team_s(start) - team_s(link))\n",
    "    result = min(result, power_diff)\n",
    "\n",
    "print(result)"
   ]
  },
  {
   "cell_type": "code",
   "execution_count": null,
   "metadata": {},
   "outputs": [],
   "source": [
    "#### 3차\n",
    "import sys\n",
    "from itertools import combinations\n",
    "\n",
    "N = int(sys.stdin.readline())\n",
    "S = [list(map(int, sys.stdin.readline().split())) for _ in range(N)]\n",
    "\n",
    "def team_s(team):\n",
    "    return sum(S[i][j] + S[j][i] for i, j in combinations(team, 2))\n",
    "\n",
    "comb_len = len(set(combinations(range(N), N//2)))//2\n",
    "\n",
    "result = float('inf')\n",
    "for i, team in enumerate(combinations(range(N), N//2)):\n",
    "    if i > comb_len:\n",
    "        break\n",
    "    start = team\n",
    "    link = tuple(set(range(N)) - set(team))\n",
    "    power_diff = abs(team_s(start) - team_s(link))\n",
    "    result = min(result, power_diff)\n",
    "\n",
    "print(result)"
   ]
  },
  {
   "cell_type": "code",
   "execution_count": null,
   "metadata": {},
   "outputs": [],
   "source": [
    "#### 4차\n",
    "import sys\n",
    "from itertools import combinations\n",
    "import math\n",
    "\n",
    "N = int(sys.stdin.readline())\n",
    "S = [list(map(int, sys.stdin.readline().split())) for _ in range(N)]\n",
    "\n",
    "def team_s(team):\n",
    "    return sum(S[i][j] + S[j][i] for i, j in combinations(team, 2))\n",
    "\n",
    "comb_len = math.comb(N, N//2) // 2\n",
    "\n",
    "result = float('inf')\n",
    "for i, team in enumerate(combinations(range(N), N//2)):\n",
    "    if i > comb_len:\n",
    "        break\n",
    "    start = team\n",
    "    link = tuple(set(range(N)) - set(team))\n",
    "    power_diff = abs(team_s(start) - team_s(link))\n",
    "    result = min(result, power_diff)\n",
    "\n",
    "print(result)"
   ]
  }
 ],
 "metadata": {
  "kernelspec": {
   "display_name": "Python 3",
   "language": "python",
   "name": "python3"
  },
  "language_info": {
   "codemirror_mode": {
    "name": "ipython",
    "version": 3
   },
   "file_extension": ".py",
   "mimetype": "text/x-python",
   "name": "python",
   "nbconvert_exporter": "python",
   "pygments_lexer": "ipython3",
   "version": "3.9.13"
  }
 },
 "nbformat": 4,
 "nbformat_minor": 2
}
