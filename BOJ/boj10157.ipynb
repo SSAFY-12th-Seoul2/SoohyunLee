{
 "cells": [
  {
   "cell_type": "markdown",
   "metadata": {},
   "source": [
    "**[boj10157 자리배정]**  \n",
    "입력: 첫 줄에는 공연장의 격자 크기를 나타내는 정수 C와 R이 하나의 공백을 사이에 두고 차례대로 주어진다. 두 값의 범위는 5 ≤ C, R ≤ 1,000이다. 그 다음 줄에는 어떤 관객의 대기번호 K가 주어진다. 단 1 ≤ K ≤ 100,000,000이다.  \n",
    "출력: 입력으로 제시된 대기번호 K인 관객에게 배정될 좌석번호 (x,y)를 구해서 두 값, x와 y를 하나의 공백을 사이에 두고 출력해야 한다. 만일 모든 좌석이 배정되어 해당 대기번호의 관객에게 좌석을 배정할 수 없는 경우에는 0(숫자 영)을 출력해야 한다. "
   ]
  },
  {
   "cell_type": "markdown",
   "metadata": {},
   "source": [
    "첫번째 시도 - 틀림"
   ]
  },
  {
   "cell_type": "code",
   "execution_count": 2,
   "metadata": {},
   "outputs": [
    {
     "name": "stdout",
     "output_type": "stream",
     "text": [
      "9 48\n"
     ]
    }
   ],
   "source": [
    "c, r = map(int, input().split())\n",
    "my_order = int(input())\n",
    "\n",
    "def find_my_seat(c, r, my_order):\n",
    "    # 예외 값 처리\n",
    "    if my_order > c*r:\n",
    "        return 0\n",
    "    else:\n",
    "        cnt = 1\n",
    "        a, b = 1, 0\n",
    "        seat_table = []\n",
    "        for i in list(range(r, 0, -1)):\n",
    "            if cnt % 2 != 0 :\n",
    "                for _ in range(i):\n",
    "                    b += 1\n",
    "                    seat_table.append((a, b))\n",
    "                for _ in range(i):\n",
    "                    a += 1\n",
    "                    seat_table.append((a, b))\n",
    "                cnt += 1\n",
    "            elif cnt % 2 == 0:\n",
    "                for _ in range(i):\n",
    "                    b -= 1\n",
    "                    seat_table.append((a, b))\n",
    "                for _ in range(i):\n",
    "                    a -= 1\n",
    "                    seat_table.append((a, b))\n",
    "                cnt += 1\n",
    "        \n",
    "        a, b = seat_table[my_order-1]\n",
    "        return f'{a} {b}'\n",
    "\n",
    "print(find_my_seat(c, r, my_order))"
   ]
  },
  {
   "cell_type": "markdown",
   "metadata": {},
   "source": [
    "두 번째 시도 - 런타임에러"
   ]
  },
  {
   "cell_type": "code",
   "execution_count": 3,
   "metadata": {},
   "outputs": [
    {
     "name": "stdout",
     "output_type": "stream",
     "text": [
      "9 64\n"
     ]
    }
   ],
   "source": [
    "c, r = map(int, input().split())\n",
    "k = int(input())\n",
    "\n",
    "def find_my_seat(c, r):\n",
    "    ud = list(range(r, 0, -1))\n",
    "    rl = list(range(c-1, 0, -1))\n",
    "\n",
    "    combined = []\n",
    "    for i in range(min(len(ud), len(rl))):\n",
    "        if i % 2 == 0:\n",
    "            combined.extend(['up'] * ud[i])\n",
    "            combined.extend(['right'] * rl[i])\n",
    "        else:\n",
    "            combined.extend(['down'] * ud[i])\n",
    "            combined.extend(['left'] * rl[i])    \n",
    "\n",
    "    x, y = 1, 0\n",
    "    for move in range(k):\n",
    "        if combined[move] == 'up':\n",
    "            y += 1\n",
    "        if combined[move] == 'right':\n",
    "            x += 1\n",
    "        if combined[move] == 'down':\n",
    "            y -= 1\n",
    "        if combined[move] == 'left':\n",
    "            x -= 1\n",
    "\n",
    "    return x, y\n",
    "\n",
    "if k > c*r:\n",
    "    print(0)\n",
    "else:\n",
    "    a, b = find_my_seat(c, r)\n",
    "    print(f'{a} {b}')"
   ]
  },
  {
   "cell_type": "markdown",
   "metadata": {},
   "source": [
    "세 번째 시도 - 맞춤\n",
    "- 길이를 세어보려고 하는 시도를 하지 않음\n",
    "- k(=step)에 맞춰서 이동하는 방법으로 해봄"
   ]
  },
  {
   "cell_type": "markdown",
   "metadata": {},
   "source": [
    "<p align = 'center'>\n",
    "  <img src = ..\\image\\boj10157.jpeg width = 400>\n",
    "</p>"
   ]
  },
  {
   "cell_type": "code",
   "execution_count": 4,
   "metadata": {},
   "outputs": [
    {
     "name": "stdout",
     "output_type": "stream",
     "text": [
      "9 64\n"
     ]
    }
   ],
   "source": [
    "c, r = map(int, input().split())\n",
    "k = int(input())\n",
    "\n",
    "def find_my_seat(c, r, k):\n",
    "    x, y = 1, 0\n",
    "    steps = 0\n",
    "    \n",
    "    while steps < k:\n",
    "        # up\n",
    "        for _ in range(r):\n",
    "            if steps == k:\n",
    "                return x, y\n",
    "            y += 1\n",
    "            steps += 1\n",
    "        \n",
    "        # right\n",
    "        for _ in range(c - 1):\n",
    "            if steps == k:\n",
    "                return x, y\n",
    "            x += 1\n",
    "            steps += 1\n",
    "\n",
    "        # down\n",
    "        for _ in range(r - 1):\n",
    "            if steps == k:\n",
    "                return x, y\n",
    "            y -= 1\n",
    "            steps += 1\n",
    "\n",
    "        # left\n",
    "        for _ in range(c - 2):\n",
    "            if steps == k:\n",
    "                return x, y\n",
    "            x -= 1\n",
    "            steps += 1\n",
    "        \n",
    "        # 줄어든 길이로 반복\n",
    "        c -= 2\n",
    "        r -= 2\n",
    "\n",
    "    return x, y\n",
    "\n",
    "if k > c * r:\n",
    "    print(0)\n",
    "else:\n",
    "    a, b = find_my_seat(c, r, k)\n",
    "    print(f'{a} {b}')\n"
   ]
  }
 ],
 "metadata": {
  "kernelspec": {
   "display_name": "Python 3",
   "language": "python",
   "name": "python3"
  },
  "language_info": {
   "codemirror_mode": {
    "name": "ipython",
    "version": 3
   },
   "file_extension": ".py",
   "mimetype": "text/x-python",
   "name": "python",
   "nbconvert_exporter": "python",
   "pygments_lexer": "ipython3",
   "version": "3.9.13"
  }
 },
 "nbformat": 4,
 "nbformat_minor": 2
}
