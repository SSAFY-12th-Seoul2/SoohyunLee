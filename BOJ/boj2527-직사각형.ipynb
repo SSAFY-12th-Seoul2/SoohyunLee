{
 "cells": [
  {
   "cell_type": "markdown",
   "metadata": {},
   "source": [
    "**[boj2527 직사각형, 실버1](https://www.acmicpc.net/problem/2527)**"
   ]
  },
  {
   "cell_type": "markdown",
   "metadata": {},
   "source": [
    "정답 코드"
   ]
  },
  {
   "cell_type": "code",
   "execution_count": 2,
   "metadata": {},
   "outputs": [
    {
     "name": "stdout",
     "output_type": "stream",
     "text": [
      "d\n",
      "a\n",
      "a\n",
      "b\n"
     ]
    }
   ],
   "source": [
    "def intersection_type(x1, y1, p1, q1, x2, y2, p2, q2):\n",
    "    # 교차 부분의 좌표를 계산합니다.\n",
    "    ix1 = max(x1, x2)\n",
    "    iy1 = max(y1, y2)\n",
    "    ix2 = min(p1, p2)\n",
    "    iy2 = min(q1, q2)\n",
    "\n",
    "    # 교차 부분의 너비와 높이를 계산합니다.\n",
    "    width = ix2 - ix1\n",
    "    height = iy2 - iy1\n",
    "\n",
    "    # 겹치는 부분이 없는 경우\n",
    "    if width < 0 or height < 0:\n",
    "        return 'd'\n",
    "    # 교차 부분이 점인 경우\n",
    "    elif width == 0 and height == 0:\n",
    "        return 'c'\n",
    "    # 교차 부분이 선분인 경우\n",
    "    elif width == 0 and height > 0:\n",
    "            return 'b'\n",
    "    elif width > 0 and height == 0:\n",
    "            return 'b'\n",
    "    # 교차 부분이 직사각형인 경우\n",
    "    elif width > 0 and height > 0:\n",
    "        return 'a'\n",
    "\n",
    "# 입력 처리\n",
    "for _ in range(4):\n",
    "    arr = list(map(int, input().split()))\n",
    "    x1, y1, p1, q1 = arr[:4]\n",
    "    x2, y2, p2, q2 = arr[4:]\n",
    "\n",
    "    print(intersection_type(x1, y1, p1, q1, x2, y2, p2, q2))"
   ]
  },
  {
   "cell_type": "markdown",
   "metadata": {},
   "source": [
    "실패 1"
   ]
  },
  {
   "cell_type": "code",
   "execution_count": 3,
   "metadata": {},
   "outputs": [
    {
     "name": "stdout",
     "output_type": "stream",
     "text": [
      "d\n",
      "a\n",
      "a\n",
      "b\n"
     ]
    }
   ],
   "source": [
    "for _ in range(4):\n",
    "    arr = list(map(int, input().split()))\n",
    "    x1, y1, p1, q1 = arr[:4]\n",
    "    x2, y2, p2, q2 = arr[4:]\n",
    "\n",
    "    # 두 직사각형이 겹치는지 확인\n",
    "    if (x1 <= p2 and p1 >= x2 and y1 <= q2 and q1 >= y2):\n",
    "        # 두 직사각형이 완전히 겹치는 경우\n",
    "        if x1 == x2 and y1 == y2 and p1 == p2 and q1 == q2:\n",
    "            print('a')\n",
    "        # 두 직사각형의 선분으로 겹치는 경우\n",
    "        elif (x1 == p2 or x2 == p1) and (y1 <= q2 and q1 >= y2) or (y1 == q2 or y2 == q1) and (x1 <= p2 and p1 >= x2):\n",
    "            print('b')\n",
    "        # 두 직사각형이 점으로 겹치는 경우\n",
    "        elif (x1 == p2 or x2 == p1) and (y1 == q2 or y2 == q1):\n",
    "            print('c')\n",
    "        else:\n",
    "            print('a')  # 나머지 겹치는 경우\n",
    "    else:\n",
    "        print('d')  # 겹치지 않는 경우\n"
   ]
  },
  {
   "cell_type": "markdown",
   "metadata": {},
   "source": [
    "작성하는 도중 and를 잘못 작성한 것 같아서 or로 바꿔보고 다시 해봤지만 틀림"
   ]
  },
  {
   "cell_type": "code",
   "execution_count": 8,
   "metadata": {},
   "outputs": [
    {
     "name": "stdout",
     "output_type": "stream",
     "text": [
      "b\n"
     ]
    }
   ],
   "source": [
    "arr = list(map(int, input().split()))\n",
    "x1, y1, p1, q1 = arr[:4]\n",
    "x2, y2, p2, q2 = arr[4:]\n",
    "\n",
    "# 두 직사각형이 겹치는지 확인\n",
    "if (x1 <= p2 and p1 >= x2 and y1 <= q2 and q1 >= y2):\n",
    "    # 두 직사각형이 완전히 겹치는 경우\n",
    "    if x1 == x2 and y1 == y2 and p1 == p2 and q1 == q2:\n",
    "        print('a')\n",
    "    # 두 직사각형의 선분으로 겹치는 경우\n",
    "    elif ((x1 == p2 or x2 == p1) and (y1 <= q2 or q1 >= y2)) or ((y1 == q2 or y2 == q1) and (x1 <= p2 or p1 >= x2)):\n",
    "        print('b')\n",
    "    # 두 직사각형이 점으로 겹치는 경우\n",
    "    elif (x1 == p2 or x2 == p1) and (y1 == q2 or y2 == q1):\n",
    "        print('c')\n",
    "    else:\n",
    "        print('a')  # 나머지 겹치는 경우\n",
    "else:\n",
    "    print('d')  # 겹치지 않는 경우"
   ]
  },
  {
   "cell_type": "markdown",
   "metadata": {},
   "source": [
    "두 직사각형이 겹치는 지 판단하는 조건문을 사용해서 교차 유형을 판단\n",
    "- 1 1 3 3 3 3 5 5를 입력해봤을 때 점으로 나오는 게 아니라 선분으로 나옴"
   ]
  },
  {
   "cell_type": "markdown",
   "metadata": {},
   "source": [
    "실패 2"
   ]
  },
  {
   "cell_type": "code",
   "execution_count": null,
   "metadata": {},
   "outputs": [],
   "source": [
    "for _ in range(4):\n",
    "    arr = list(map(int, input().split()))\n",
    "    x1, y1, p1, q1 = arr[:4]\n",
    "    x2, y2, p2, q2 = arr[4:]\n",
    "\n",
    "    # 두 직사각형이 겹치는지 확인\n",
    "    if (x1 <= p1 and x2 <= p1 and y1 <= q2 and y2 <= q1):\n",
    "        # 두 직사각형이 완전히 겹치는 경우\n",
    "        if x1 == x2 and y1 == y2 and p1 == p2 and q1 == q2:\n",
    "            print('a')\n",
    "        elif ((y1 == q2 or y2 == q1) and (x1 <= p1 and x2 <= p1)) or ((x1==p2 or x2==p1) and (y1 <= q2 and y2 <= q1)):\n",
    "            if ((y1 == q2 or y2 == q1) and (x1 == p2 or x2 == p1)):\n",
    "                # 두 직사각형이 점으로 만나는 경우\n",
    "                print('c')\n",
    "            else:\n",
    "                # 두 직사각형이 선으로 겹치는 경우\n",
    "                print('b')\n",
    "        else:\n",
    "            # 위 케이스를 제외하고 겹치는 경우\n",
    "            print('a')\n",
    "    # 공통부분 없음\n",
    "    else:\n",
    "        print('d')"
   ]
  },
  {
   "cell_type": "markdown",
   "metadata": {},
   "source": [
    "x1 <= p1와 x2 <= p1 오류"
   ]
  },
  {
   "cell_type": "markdown",
   "metadata": {},
   "source": [
    "실패 3"
   ]
  },
  {
   "cell_type": "code",
   "execution_count": null,
   "metadata": {},
   "outputs": [],
   "source": [
    "for _ in range(4):\n",
    "    arr = list(map(int, input().split()))\n",
    "    x1, y1, p1, q1 = arr[:4]\n",
    "    x2, y2, p2, q2 = arr[4:]\n",
    "\n",
    "    # 두 직사각형이 겹치는지 확인\n",
    "    if not (p1 < x2 or x1 > p2 or q1 < y2 or y1 > q1):\n",
    "        # 두 직사각형이 완전히 겹치는 경우\n",
    "        if x1 == x2 and y1 == y2 and p1 == p2 and q1 == q2:\n",
    "            print('a')\n",
    "\n",
    "        # 두 직사각형이 선분으로 겹치는 경우\n",
    "        elif ((y1 == q2 or y2 == q1) and (x1 <= p1 and x2 <= p1)) or ((x1 == p2 or x2 == p1) and (y1 <= q2 and y2 <= q1)):\n",
    "            if ((y1 == q2 or y2 == q1) and (x1 == p2 or x2 == p1)):\n",
    "                # 두 직사각형이 점으로 만나는 경우\n",
    "                print('c')\n",
    "            else:\n",
    "                # 두 직사각형이 선으로 겹치는 경우\n",
    "                print('b')\n",
    "        else:\n",
    "            # 위 케이스를 제외하고 겹치는 경우\n",
    "            print('a')\n",
    "    # 공통부분 없음\n",
    "    else:\n",
    "        print('d')"
   ]
  },
  {
   "cell_type": "markdown",
   "metadata": {},
   "source": [
    "y1 > q1 오류\n",
    "y1 < q2로 했어야 함"
   ]
  },
  {
   "cell_type": "code",
   "execution_count": 9,
   "metadata": {},
   "outputs": [
    {
     "name": "stdout",
     "output_type": "stream",
     "text": [
      "d\n",
      "a\n",
      "a\n",
      "b\n"
     ]
    }
   ],
   "source": [
    "# chatgpt 답안 => 틀림\n",
    "for _ in range(4):\n",
    "    arr = list(map(int, input().split()))\n",
    "    x1, y1, p1, q1 = arr[:4]\n",
    "    x2, y2, p2, q2 = arr[4:]\n",
    "\n",
    "    # 두 직사각형이 겹치는지 확인\n",
    "    if not (p1 < x2 or x1 > p2 or q1 < y2 or y1 > q2):\n",
    "        # 두 직사각형이 점으로 겹치는 경우\n",
    "        if (p1 == x2 and q1 == y2) or (x1 == p2 and y1 == q2):\n",
    "            print('c')\n",
    "        # 두 직사각형이 선분으로 겹치는 경우\n",
    "        elif (p1 == x2 or x1 == p2 or q1 == y2 or y1 == q2):\n",
    "            print('b')\n",
    "        # 두 직사각형이 직사각형으로 겹치는 경우\n",
    "        else:\n",
    "            print('a')\n",
    "    else:\n",
    "        print('d')"
   ]
  },
  {
   "cell_type": "markdown",
   "metadata": {},
   "source": [
    "실패 4"
   ]
  },
  {
   "cell_type": "code",
   "execution_count": null,
   "metadata": {},
   "outputs": [],
   "source": [
    "def find_intersection_type(x1, y1, p1, q1, x2, y2, p2, q2):\n",
    "    # 교차 부분의 좌표를 찾습니다.\n",
    "    ix1 = max(x1, x2)\n",
    "    iy1 = max(y1, y2)\n",
    "    ix2 = min(p1, p2)\n",
    "    iy2 = min(q1, q2)\n",
    "\n",
    "    # 교차 부분이 없는 경우\n",
    "    if ix1 >= ix2 or iy1 >= iy2:\n",
    "        return 'd'\n",
    "\n",
    "    # 교차 부분의 너비와 높이\n",
    "    width = ix2 - ix1\n",
    "    height = iy2 - iy1\n",
    "\n",
    "    # 교차 부분이 직사각형인 경우\n",
    "    if width > 0 and height > 0:\n",
    "        return 'a'\n",
    "\n",
    "    # 교차 부분이 선분인 경우\n",
    "    if (width == 0 and height > 0) or (width > 0 and height == 0):\n",
    "        return 'b'\n",
    "\n",
    "    # 교차 부분이 점인 경우\n",
    "    if width == 0 and height == 0:\n",
    "        return 'c'\n",
    "\n",
    "\n",
    "# 입력 받기\n",
    "for _ in range(4):\n",
    "    arr = list(map(int, input().split()))\n",
    "    x1, y1, p1, q1 = arr[:4]\n",
    "    x2, y2, p2, q2 = arr[4:]\n",
    "\n",
    "    print(find_intersection_type(x1, y1, p1, q1, x2, y2, p2, q2))"
   ]
  },
  {
   "cell_type": "markdown",
   "metadata": {},
   "source": [
    "if 구문의 문제가 있어보임.."
   ]
  },
  {
   "cell_type": "markdown",
   "metadata": {},
   "source": [
    "실패 5"
   ]
  },
  {
   "cell_type": "code",
   "execution_count": null,
   "metadata": {},
   "outputs": [],
   "source": [
    "def find_intersection_type(x1, y1, p1, q1, x2, y2, p2, q2):\n",
    "    # 교차 부분의 좌표를 찾습니다.\n",
    "    ix1 = max(x1, x2)\n",
    "    iy1 = max(y1, y2)\n",
    "    ix2 = min(p1, p2)\n",
    "    iy2 = min(q1, q2)\n",
    "\n",
    "    # 교차 부분이 없는 경우\n",
    "    if ix1 > ix2 or iy1 > iy2:\n",
    "        return 'd'\n",
    "\n",
    "    # 교차 부분의 너비와 높이\n",
    "    width = ix2 - ix1\n",
    "    height = iy2 - iy1\n",
    "\n",
    "    # 교차 부분이 직사각형인 경우\n",
    "    if width > 0 and height > 0:\n",
    "        return 'a'\n",
    "\n",
    "    # 교차 부분이 선분인 경우\n",
    "    if (width == 0 and height > 0) or (width > 0 and height == 0):\n",
    "        return 'b'\n",
    "\n",
    "    # 교차 부분이 점인 경우\n",
    "    if width == 0 and height == 0:\n",
    "        return 'c'"
   ]
  },
  {
   "cell_type": "markdown",
   "metadata": {},
   "source": [
    "print 안함 ^^"
   ]
  },
  {
   "cell_type": "markdown",
   "metadata": {},
   "source": [
    "실패 6"
   ]
  },
  {
   "cell_type": "code",
   "execution_count": null,
   "metadata": {},
   "outputs": [],
   "source": [
    "def find_intersection_type(x1, y1, p1, q1, x2, y2, p2, q2):\n",
    "    # 교차 부분의 좌표를 찾습니다.\n",
    "    ix1 = max(x1, x2)\n",
    "    iy1 = max(y1, y2)\n",
    "    ix2 = min(p1, p2)\n",
    "    iy2 = min(q1, q2)\n",
    "\n",
    "    # 교차 부분이 없는 경우\n",
    "    if ix1 > ix2 and iy1 > iy2:\n",
    "        # [틀린 부분 or로 해야 함]\n",
    "        return 'd'\n",
    "\n",
    "    # 교차 부분의 너비와 높이\n",
    "    width = ix2 - ix1\n",
    "    height = iy2 - iy1\n",
    "\n",
    "    # 교차 부분이 직사각형인 경우\n",
    "    if width > 0 and height > 0:\n",
    "        return 'a'\n",
    "\n",
    "    # 교차 부분이 선분인 경우\n",
    "    if (width == 0 and height > 0) or (width > 0 and height == 0):\n",
    "        return 'b'\n",
    "\n",
    "    # 교차 부분이 점인 경우\n",
    "    if width == 0 and height == 0:\n",
    "        return 'c'\n",
    "\n",
    "\n",
    "# 입력 받기\n",
    "for _ in range(4):\n",
    "    arr = list(map(int, input().split()))\n",
    "    x1, y1, p1, q1 = arr[:4]\n",
    "    x2, y2, p2, q2 = arr[4:]\n",
    "    print(find_intersection_type(x1, y1, p1, q1, x2, y2, p2, q2))"
   ]
  }
 ],
 "metadata": {
  "kernelspec": {
   "display_name": "Python 3",
   "language": "python",
   "name": "python3"
  },
  "language_info": {
   "codemirror_mode": {
    "name": "ipython",
    "version": 3
   },
   "file_extension": ".py",
   "mimetype": "text/x-python",
   "name": "python",
   "nbconvert_exporter": "python",
   "pygments_lexer": "ipython3",
   "version": "3.9.13"
  }
 },
 "nbformat": 4,
 "nbformat_minor": 2
}
