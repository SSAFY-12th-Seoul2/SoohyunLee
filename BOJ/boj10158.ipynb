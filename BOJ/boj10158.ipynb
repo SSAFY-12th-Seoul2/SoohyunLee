{
 "cells": [
  {
   "cell_type": "markdown",
   "metadata": {},
   "source": [
    "[boj10158 개미]"
   ]
  },
  {
   "cell_type": "code",
   "execution_count": 3,
   "metadata": {},
   "outputs": [
    {
     "name": "stdout",
     "output_type": "stream",
     "text": [
      "3 1\n"
     ]
    }
   ],
   "source": [
    "# 첫 시도 => 시간 초과\n",
    "w, h = map(int, input().split())\n",
    "p, q = map(int, input().split())\n",
    "t = int(input())\n",
    "\n",
    "dx = [1, -1, -1, -1]\n",
    "dy = [1, 1, -1, 1]\n",
    "d = 0\n",
    "step = 0\n",
    "while step < t:\n",
    "    if (p == w and q == h) or (p == q == 0):\n",
    "        d += 2\n",
    "        p = p + dx[d%4]\n",
    "        q = q + dy[d%4]\n",
    "    elif p == w or q == h or p == 0 or q == 0:\n",
    "        d += 1\n",
    "        p = p + dx[d%4]\n",
    "        q = q + dy[d%4]\n",
    "    else:\n",
    "        p = p + dx[d%4]\n",
    "        q = q + dy[d%4]\n",
    "    step += 1\n",
    "\n",
    "print(p, q)"
   ]
  },
  {
   "cell_type": "code",
   "execution_count": 2,
   "metadata": {},
   "outputs": [
    {
     "name": "stdout",
     "output_type": "stream",
     "text": [
      "0 1\n"
     ]
    }
   ],
   "source": [
    "def find_position(p, w, t):\n",
    "    cycle = 2 * w\n",
    "    t = t % cycle # 큰 수 처리\n",
    "    \n",
    "    # 뒤로 가기 전까지 앞으로 갈 수 있는 조건\n",
    "    if t <= w - p:\n",
    "        p = p + t\n",
    "        \n",
    "    # 뒤로 가는 조건\n",
    "    elif t <= w - p + w:\n",
    "        p = w - (t - (w - p))\n",
    "    else:      \n",
    "        # 다시 앞으로\n",
    "        p = (t - (w - p + w)) \n",
    "\n",
    "    return p\n",
    "\n",
    "w, h = map(int, input().split())\n",
    "p, q = map(int, input().split())\n",
    "t = int(input())\n",
    "\n",
    "p = find_position(p, w, t)\n",
    "q = find_position(q, h, t)\n",
    "print(p, q)"
   ]
  },
  {
   "cell_type": "markdown",
   "metadata": {},
   "source": [
    "풀이과정\n",
    "<p align = 'center'>\n",
    "  <img src = '..\\image\\boj10158.jpg'>\n",
    "</p>"
   ]
  }
 ],
 "metadata": {
  "kernelspec": {
   "display_name": "Python 3",
   "language": "python",
   "name": "python3"
  },
  "language_info": {
   "codemirror_mode": {
    "name": "ipython",
    "version": 3
   },
   "file_extension": ".py",
   "mimetype": "text/x-python",
   "name": "python",
   "nbconvert_exporter": "python",
   "pygments_lexer": "ipython3",
   "version": "3.9.13"
  }
 },
 "nbformat": 4,
 "nbformat_minor": 2
}
