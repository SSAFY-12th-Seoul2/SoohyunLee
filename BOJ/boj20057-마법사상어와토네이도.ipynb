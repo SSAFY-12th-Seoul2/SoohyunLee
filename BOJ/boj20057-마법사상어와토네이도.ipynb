{
 "cells": [
  {
   "cell_type": "code",
   "execution_count": null,
   "metadata": {},
   "outputs": [
    {
     "ename": "",
     "evalue": "",
     "output_type": "error",
     "traceback": [
      "\u001b[1;31mRunning cells with 'Python 3.9.17' requires the ipykernel package.\n",
      "\u001b[1;31mRun the following command to install 'ipykernel' into the Python environment. \n",
      "\u001b[1;31mCommand: '/Users/suhyunlee/.pyenv/versions/3.9.17/bin/python -m pip install ipykernel -U --force-reinstall'"
     ]
    }
   ],
   "source": [
    "# 마법사 상어와 토네이도\n",
    "# import sys\n",
    "# sys.stdin = open('boj/input.txt', 'r')\n",
    "\n",
    "N = int(input())\n",
    "arr = [list(map(int, input().split())) for _ in range(N)]\n",
    "\n",
    "# 시작점 위치\n",
    "nx = N//2\n",
    "ny = N//2\n",
    "\n",
    "\n",
    "# 흩날리게 되는 위치(x, y)와 비율(z)\n",
    "left = [(-1, 1, 0.01), \n",
    "        (1, 1, 0.01),\n",
    "        (-2, 0, 0.02), \n",
    "        (2, 0, 0.02),\n",
    "        (-1, 0, 0.07), \n",
    "        (1, 0, 0.07),\n",
    "        (-1, -1, 0.1), \n",
    "        (1, -1, 0.1),\n",
    "        (0, -2, 0.05),  # 저번에 놓쳤던 부분\n",
    "        (0, -1, 0)]   # 저번에 놓쳤던 부분\n",
    "\n",
    "right = [(x, -y, z) for x, y, z in left]  \n",
    "down = [(-y, x, z) for x, y, z in left]  \n",
    "up = [(y, -x, z) for x, y, z in left]\n",
    "\n",
    "direction = {'left': left,\n",
    "             'right': right,\n",
    "             'down': down,\n",
    "             'up': up}\n",
    "\n",
    "def tornado(arr, dx, dy, step, direct):\n",
    "    global nx, ny, disappear_amount\n",
    "\n",
    "    if nx == -1 or ny == -1:\n",
    "        return\n",
    "\n",
    "    for _ in range(step):\n",
    "        nx += dx\n",
    "        ny += dy\n",
    "\n",
    "        if 0 <= nx < N and 0 <= ny < N:\n",
    "            # y의 위치\n",
    "            dust = arr[nx][ny]\n",
    "            use_amount = 0\n",
    "            if dust != 0:\n",
    "                for x, y, z in direction[direct]:\n",
    "                    temp_x = nx + x\n",
    "                    temp_y = ny + y\n",
    "                    dust_amount = int(dust * z)\n",
    "                    if 0 <= temp_x < N and 0 <= temp_y < N:\n",
    "                        if z == 0:\n",
    "                            arr[temp_x][temp_y] += (dust - use_amount)\n",
    "                        else:\n",
    "                            arr[temp_x][temp_y] += dust_amount\n",
    "                            use_amount += dust_amount\n",
    "                    else:\n",
    "                        if z == 0:\n",
    "                            disappear_amount += (dust - use_amount)\n",
    "                        else:\n",
    "                            use_amount += dust_amount\n",
    "                            disappear_amount += dust_amount\n",
    "\n",
    "                arr[nx][ny] = 0\n",
    "\n",
    "disappear_amount = 0\n",
    "for i in range(N):\n",
    "    step = (2 * i) + 1\n",
    "    # 왼쪽\n",
    "    tornado(arr, 0, -1, step, 'left')\n",
    "    # 아래\n",
    "    tornado(arr, 1, 0, step, 'down')\n",
    "    step = (2 * i) + 2\n",
    "    # 오른쪽\n",
    "    tornado(arr, 0, 1, step, 'right')\n",
    "    # 위쪽\n",
    "    tornado(arr, -1, 0, step, 'up')\n",
    "\n",
    "print(disappear_amount)\n"
   ]
  },
  {
   "cell_type": "markdown",
   "metadata": {},
   "source": [
    "<p align = 'center'>\n",
    "  <img src = ..\\image\\boj20057.jpg>\n",
    "</p>"
   ]
  },
  {
   "cell_type": "markdown",
   "metadata": {},
   "source": []
  }
 ],
 "metadata": {
  "kernelspec": {
   "display_name": "Python 3",
   "language": "python",
   "name": "python3"
  },
  "language_info": {
   "name": "python",
   "version": "3.9.17"
  }
 },
 "nbformat": 4,
 "nbformat_minor": 2
}
