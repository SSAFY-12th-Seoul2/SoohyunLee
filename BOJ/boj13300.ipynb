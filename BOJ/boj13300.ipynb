{
 "cells": [
  {
   "cell_type": "markdown",
   "metadata": {},
   "source": [
    "**[boj13300. 방배정, 브론즈2](https://www.acmicpc.net/problem/13300)**"
   ]
  },
  {
   "cell_type": "markdown",
   "metadata": {},
   "source": [
    "2점"
   ]
  },
  {
   "cell_type": "code",
   "execution_count": null,
   "metadata": {},
   "outputs": [],
   "source": [
    "# import sys\n",
    "# n : 학생 수, k : 인원제한\n",
    "n, k = map(int, input().split())\n",
    "\n",
    "# s : 성별, y : 학년\n",
    "\n",
    "table = [[0, 0] for i in range(6)]\n",
    "total = 0\n",
    "for i in range(n):\n",
    "    s, y = map(int, input().split())\n",
    "    # s, y = map(int, sys.stdin.readline().split())\n",
    "    table[y-1][s] += 1\n",
    "    if 0 < table[y-1][s] <= 1:\n",
    "        total += 1\n",
    "    elif table[y-1][s] > k:\n",
    "        total += 1\n",
    "        table[y-1][s] = 0\n",
    "    else:\n",
    "        pass\n",
    "\n",
    "print(total)"
   ]
  },
  {
   "cell_type": "markdown",
   "metadata": {},
   "source": [
    "100점"
   ]
  },
  {
   "cell_type": "code",
   "execution_count": null,
   "metadata": {},
   "outputs": [],
   "source": [
    "# import sys\n",
    "# n : 학생 수, k : 인원제한\n",
    "n, k = map(int, input().split())\n",
    "\n",
    "# s : 성별, y : 학년\n",
    "\n",
    "table = [[0, 0] for i in range(6)]\n",
    "total = 0\n",
    "for i in range(n):\n",
    "    s, y = map(int, input().split())\n",
    "    # s, y = map(int, sys.stdin.readline().split())\n",
    "    table[y-1][s] += 1\n",
    "    if 0 < table[y-1][s] <= 1:\n",
    "        total += 1\n",
    "    elif table[y-1][s] == k:\n",
    "        table[y-1][s] = 0\n",
    "    else:\n",
    "        pass\n",
    "\n",
    "print(total)"
   ]
  },
  {
   "cell_type": "markdown",
   "metadata": {},
   "source": [
    "일정 인원수 채워지면 0으로 초기화하고 방 다시 배정"
   ]
  },
  {
   "cell_type": "markdown",
   "metadata": {},
   "source": []
  }
 ],
 "metadata": {
  "language_info": {
   "name": "python"
  }
 },
 "nbformat": 4,
 "nbformat_minor": 2
}
