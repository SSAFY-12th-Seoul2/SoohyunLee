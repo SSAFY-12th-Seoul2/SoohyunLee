{
 "cells": [
  {
   "cell_type": "markdown",
   "metadata": {},
   "source": [
    "**[2304. 창고 다각형, 실버2](https://www.acmicpc.net/problem/2304)**"
   ]
  },
  {
   "cell_type": "markdown",
   "metadata": {},
   "source": [
    "최대한 함수를 안 쓴 방식"
   ]
  },
  {
   "cell_type": "code",
   "execution_count": null,
   "metadata": {},
   "outputs": [],
   "source": [
    "# 기둥 갯수\n",
    "n = int(input())\n",
    "# 기둥 리스트가 어디까지 있는지 확인하기 위한 플래그\n",
    "pillar_left_max = 0\n",
    "# 기둥 리스트에서 가장 높은 값이 몇 번째 인덱스에 있는지 파악하기 위한 플래그\n",
    "pillar_max = 0\n",
    "\n",
    "# 임시 리스트 \n",
    "temp_list = []\n",
    "for _ in range(n):\n",
    "    pillar_idx, pillar_h = map(int, input().split())\n",
    "    temp_list += [(pillar_idx, pillar_h)]\n",
    "    \n",
    "    # 얼마나 긴지 체크 \n",
    "    if pillar_left_max < pillar_idx:\n",
    "        pillar_left_max = pillar_idx\n",
    "    \n",
    "    # 제일 높은 기둥의 위치 체크 \n",
    "    if pillar_max <= pillar_h:\n",
    "        pillar_max = pillar_h\n",
    "        flag =  pillar_idx\n",
    "\n",
    "# 기둥 리스트 만들기 \n",
    "pillars = [0 for _ in range(pillar_left_max+1)]\n",
    "\n",
    "# 기둥 위치에 따른 높이 만들기\n",
    "for idx, h in temp_list:\n",
    "    pillars[idx] = h\n",
    "\n",
    "max_h = 0\n",
    "sum_area = 0\n",
    "\n",
    "# 왼쪽에서부터 시작하여 제일 높은 기둥까지 탐색\n",
    "for i in range(1, flag+1):\n",
    "    # 기존보다 높은 기둥이 나타나면 누적 면적 변경\n",
    "    if max_h < pillars[i]:\n",
    "        max_h = pillars[i]\n",
    "    sum_area += max_h\n",
    "\n",
    "max_h = 0\n",
    "# 오른쪽에서부터 시작하여 제일 높은 기둥 전까지 탐색 \n",
    "for j in range(len(pillars)-1, flag, -1):\n",
    "    # 기존보다 높은 기둥이 나타나면 누적 면적 변경\n",
    "    if max_h < pillars[j]:\n",
    "        max_h = pillars[j]\n",
    "    sum_area += max_h\n",
    "\n",
    "print(sum_area)"
   ]
  },
  {
   "cell_type": "markdown",
   "metadata": {},
   "source": [
    "풀고 나서 수정한 답안"
   ]
  },
  {
   "cell_type": "code",
   "execution_count": null,
   "metadata": {},
   "outputs": [],
   "source": [
    "# 기둥 갯수\n",
    "n = int(input())\n",
    "\n",
    "pillars = [0] * 1001\n",
    "\n",
    "# 기둥 입력과 동시에 리스트 갱신\n",
    "for _ in range(n):\n",
    "    idx, h = map(int, input().split())\n",
    "    pillars[idx] = h\n",
    "    \n",
    "\n",
    "# 가장 높은 기둥의 위치 찾기\n",
    "flag = pillars.index(max(pillars))\n",
    "\n",
    "max_h = 0\n",
    "sum_area = 0\n",
    "\n",
    "# 왼쪽에서부터 시작하여 제일 높은 기둥까지 탐색\n",
    "for i in range(1, flag+1):\n",
    "    max_h = max(max_h, pillars[i])\n",
    "    sum_area += max_h\n",
    "\n",
    "max_h = 0\n",
    "# 오른쪽에서부터 시작하여 제일 높은 기둥 전까지 탐색 \n",
    "for j in range(1000, flag, -1):\n",
    "    max_h = max(max_h, pillars[j])\n",
    "    sum_area += max_h\n",
    "\n",
    "print(sum_area)"
   ]
  },
  {
   "cell_type": "markdown",
   "metadata": {},
   "source": [
    "`sys` library를 사용하여 시간 단축(56->44)"
   ]
  },
  {
   "cell_type": "code",
   "execution_count": null,
   "metadata": {},
   "outputs": [],
   "source": [
    "import sys \n",
    "# 기둥 갯수\n",
    "n = int(input())\n",
    "\n",
    "pillars = [0] * 1001\n",
    "\n",
    "# 기둥 입력과 동시에 리스트 갱신\n",
    "for _ in range(n):\n",
    "    idx, h = map(int, sys.stdin.readline().split())\n",
    "    pillars[idx] = h\n",
    "    \n",
    "\n",
    "# 가장 높은 기둥의 위치 찾기\n",
    "flag = pillars.index(max(pillars))\n",
    "\n",
    "max_h = 0\n",
    "sum_area = 0\n",
    "\n",
    "# 왼쪽에서부터 시작하여 제일 높은 기둥까지 탐색\n",
    "for i in range(1, flag+1):\n",
    "    max_h = max(max_h, pillars[i])\n",
    "    sum_area += max_h\n",
    "\n",
    "max_h = 0\n",
    "# 오른쪽에서부터 시작하여 제일 높은 기둥 전까지 탐색 \n",
    "for j in range(1000, flag, -1):\n",
    "    max_h = max(max_h, pillars[j])\n",
    "    sum_area += max_h\n",
    "\n",
    "print(sum_area)"
   ]
  }
 ],
 "metadata": {
  "language_info": {
   "name": "python"
  }
 },
 "nbformat": 4,
 "nbformat_minor": 2
}
