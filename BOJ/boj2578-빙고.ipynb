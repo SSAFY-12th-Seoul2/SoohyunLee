{
 "cells": [
  {
   "cell_type": "markdown",
   "metadata": {},
   "source": [
    "**[2578. 빙고, 실버4](https://www.acmicpc.net/problem/2578)**"
   ]
  },
  {
   "cell_type": "code",
   "execution_count": null,
   "metadata": {},
   "outputs": [],
   "source": [
    "# 빙고\n",
    "arr = [list(map(int, input().split())) for _ in range(5)]\n",
    "# 부를 숫자 순서 리스트\n",
    "numbers = []\n",
    "for _ in range(5):\n",
    "    numbers += list(map(int, input().split()))\n",
    "\n",
    "# 행, 열, 대각선 카운트\n",
    "row_cnt = [0] * 5\n",
    "col_cnt = [0] * 5\n",
    "x1_cnt = 0\n",
    "x2_cnt = 0\n",
    "result = 0\n",
    "\n",
    "# 완료된 행과 열을 추적\n",
    "completed_rows = set()\n",
    "completed_cols = set()\n",
    "\n",
    "for ind, n in enumerate(numbers):\n",
    "    # 숫자의 위치를 찾아서 마킹\n",
    "    for i in range(5):\n",
    "        for j in range(5):\n",
    "            # 숫자를 찾음\n",
    "            if arr[i][j] == n:\n",
    "                # 행, 열 카운트\n",
    "                row_cnt[i] += 1\n",
    "                col_cnt[j] += 1\n",
    "                # 대각선 카운트\n",
    "                if i == j:\n",
    "                    x1_cnt += 1\n",
    "                # 대각선2 카운트\n",
    "                if i == (4-j):\n",
    "                    x2_cnt += 1\n",
    "                \n",
    "                # 완료된 줄을 체크\n",
    "                if row_cnt[i] == 5 and i not in completed_rows:\n",
    "                    result += 1\n",
    "                    completed_rows.add(i)\n",
    "                if col_cnt[j] == 5 and j not in completed_cols:\n",
    "                    result += 1\n",
    "                    completed_cols.add(j)\n",
    "                if x1_cnt == 5 and 'x1' not in completed_rows:\n",
    "                    result += 1\n",
    "                    completed_rows.add('x1') # 대각선은 그냥 row에 넣음\n",
    "                if x2_cnt == 5 and 'x2' not in completed_rows:\n",
    "                    result += 1\n",
    "                    completed_rows.add('x2') # 대각선은 그냥 row에 넣음\n",
    "                \n",
    "                # 3개 이상의 빙고가 떴을 때\n",
    "                if result >= 3:\n",
    "                    print(ind+1)\n",
    "                    break\n",
    "        else:\n",
    "            continue\n",
    "        break\n",
    "    else:\n",
    "        continue\n",
    "    break"
   ]
  }
 ],
 "metadata": {
  "language_info": {
   "name": "python"
  }
 },
 "nbformat": 4,
 "nbformat_minor": 2
}
