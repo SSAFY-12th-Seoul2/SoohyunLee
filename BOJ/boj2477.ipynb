{
 "cells": [
  {
   "cell_type": "markdown",
   "metadata": {},
   "source": [
    "**[boj2477 참외밭]**"
   ]
  },
  {
   "cell_type": "markdown",
   "metadata": {},
   "source": [
    "1. 반시계 방향 특징을 고려하여 계산"
   ]
  },
  {
   "cell_type": "code",
   "execution_count": null,
   "metadata": {},
   "outputs": [],
   "source": [
    "# 멜론 개수 입력\n",
    "melon = int(input())\n",
    "\n",
    "directions = []\n",
    "lengths = []\n",
    "for _ in range(6):\n",
    "    direction, length = map(int, input().split())\n",
    "    directions.append(direction)\n",
    "    lengths.append(length)\n",
    "\n",
    "width = 0\n",
    "height = 0\n",
    "\n",
    "d1 = directions[-1]\n",
    "len1 = lengths[-1]\n",
    "for i in range(len(directions)):\n",
    "\n",
    "    # 동 1 - 남 3 = -2\n",
    "    # 북 4 - 동 1 = 3\n",
    "    # 서 2 - 북 4 = -2\n",
    "    # 남 3 - 서 2 = 1\n",
    "    d0 = d1 # 전\n",
    "    d1 = directions[i] # 후\n",
    "    len0 = len1 # 전\n",
    "    len1 = lengths[i] # 후\n",
    "    if (d0 - d1 == -2) or (d0 - d1 == 3) or (d0 - d1 == 1):\n",
    "        small_area = len0 * len1\n",
    "    \n",
    "    if (directions[i] >= 3) and (height < lengths[i]):\n",
    "        height = lengths[i]\n",
    "    \n",
    "    if (directions[i] <= 2) and (width < lengths[i]):\n",
    "        width = lengths[i]\n",
    "    \n",
    "    big_area = width * height\n",
    "\n",
    "area = big_area - small_area\n",
    "result = area * melon\n",
    "print(result)"
   ]
  },
  {
   "cell_type": "markdown",
   "metadata": {},
   "source": [
    "<p align = 'center'>\n",
    "  <img src = ..\\image\\boj2477-1.jpg width = 400>\n",
    "</p>"
   ]
  },
  {
   "cell_type": "markdown",
   "metadata": {},
   "source": [
    "2. 다각형 면적 공식을 이용하여 계산"
   ]
  },
  {
   "cell_type": "code",
   "execution_count": null,
   "metadata": {},
   "outputs": [],
   "source": [
    "# 멜론 개수 입력\n",
    "melon = int(input())\n",
    "\n",
    "# 방향과 길이 정보를 입력받아 리스트로 저장\n",
    "directions = []\n",
    "for _ in range(6):\n",
    "    direction, length = map(int, input().split())\n",
    "    directions.append((direction, length))\n",
    "\n",
    "def hexagon(directions):\n",
    "    # 꼭짓점 구하기\n",
    "    x, y = 0, 0\n",
    "    vertices = [(x, y)]\n",
    "\n",
    "    for direction, length in directions:\n",
    "        if direction == 1:  # 동\n",
    "            x += length\n",
    "        elif direction == 2:  # 서\n",
    "            x -= length\n",
    "        elif direction == 3:  # 남\n",
    "            y -= length\n",
    "        elif direction == 4:  # 북\n",
    "            y += length\n",
    "        vertices.append((x, y))\n",
    "\n",
    "    return vertices\n",
    "\n",
    "def calculate_area(vertices):\n",
    "    # 주어진 꼭짓점 리스트를 바탕으로 다각형의 면적을 계산하는 함수\n",
    "    n = len(vertices)\n",
    "    area = 0\n",
    "    for i in range(n):\n",
    "        x1, y1 = vertices[i]\n",
    "        x2, y2 = vertices[(i + 1) % n]\n",
    "        area += x1 * y2 - y1 * x2\n",
    "    return abs(area) / 2\n",
    "\n",
    "# 육각형의 꼭짓점을 계산\n",
    "vertices = hexagon(directions)\n",
    "\n",
    "# 면적을 계산\n",
    "area = calculate_area(vertices)\n",
    "\n",
    "# 최종 값 계산\n",
    "result = int(area * melon)\n",
    "print(result)\n"
   ]
  },
  {
   "cell_type": "markdown",
   "metadata": {},
   "source": [
    "<p align = 'center'>\n",
    "  <img src = ..\\image\\boj2477-2.jpg width = 400>\n",
    "</p>"
   ]
  },
  {
   "cell_type": "markdown",
   "metadata": {},
   "source": [
    "[다각형의 면적 공식 참고 자료1 - 티스토리](https://darkpgmr.tistory.com/86)  \n",
    "[다각형의 면적 공식 참고 자료2 - PolygonArea, wolfram](https://mathworld.wolfram.com/PolygonArea.html)"
   ]
  },
  {
   "cell_type": "markdown",
   "metadata": {},
   "source": []
  }
 ],
 "metadata": {
  "language_info": {
   "name": "python"
  }
 },
 "nbformat": 4,
 "nbformat_minor": 2
}
