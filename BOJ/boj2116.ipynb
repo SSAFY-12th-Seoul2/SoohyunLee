{
 "cells": [
  {
   "cell_type": "markdown",
   "metadata": {},
   "source": [
    "**[boj2116 주사위 쌓기, 골드5](https://www.acmicpc.net/problem/2116)**"
   ]
  },
  {
   "cell_type": "code",
   "execution_count": null,
   "metadata": {},
   "outputs": [],
   "source": [
    "import sys\n",
    "N = int(input()) # 주사위 개수\n",
    "# a, b, c, d, e, f\n",
    "# a-f, b-d, c-e\n",
    "\n",
    "def dice_max(dice, bottom):\n",
    "    # 밑면을 찾는 과정\n",
    "    for b in range(6):\n",
    "        if dice[b] == bottom:\n",
    "            break\n",
    "\n",
    "    # 주사위 밑면의 위치가 A일 때\n",
    "    if b == 0:\n",
    "        # 윗면과, 최댓값을 구해봄\n",
    "        return (dice[5], max(dice[1], dice[2], dice[3], dice[4]))\n",
    "\n",
    "    # 주사위 밑면의 위치가 B일 때\n",
    "    if b == 1:\n",
    "        # 윗면과, 최댓값을 구해봄\n",
    "        return (dice[3], max(dice[0], dice[2], dice[4], dice[5]))\n",
    "\n",
    "    # 주사위 밑면의 위치가 C일 때\n",
    "    if b == 2:\n",
    "        # 윗면과, 최댓값을 구해봄\n",
    "        return (dice[4], max(dice[0], dice[1], dice[3], dice[5]))\n",
    "\n",
    "    # 주사위 밑면의 위치가 D일 때\n",
    "    if b == 3:\n",
    "        # 윗면과, 최댓값을 구해봄\n",
    "        return (dice[1], max(dice[0], dice[2], dice[4], dice[5]))\n",
    "\n",
    "    # 주사위 밑면의 위치가 E일 때\n",
    "    if b == 4:\n",
    "        # 윗면과, 최댓값을 구해봄\n",
    "        return (dice[2], max(dice[0], dice[1], dice[3], dice[5]))\n",
    "\n",
    "    # 주사위 밑면의 위치가 F일 때\n",
    "    if b == 5:\n",
    "        # 윗면과, 최댓값을 구해봄\n",
    "        return (dice[0], max(dice[1], dice[2], dice[3], dice[4]))\n",
    "\n",
    "\n",
    "dices = [list(map(int, sys.stdin.readline().split())) for _ in range(N)]\n",
    "result = 0\n",
    "for i in range(1, 7):\n",
    "    bottom = i\n",
    "    s = 0\n",
    "    for j in range(N):\n",
    "        # bottom을 새로 지정해주면서 재귀로 호출\n",
    "        bottom, max_noon = dice_max(dices[j], bottom)\n",
    "        s += max_noon\n",
    "    \n",
    "    if result < s:\n",
    "        result = s\n",
    "\n",
    "print(result)"
   ]
  }
 ],
 "metadata": {
  "language_info": {
   "name": "python"
  }
 },
 "nbformat": 4,
 "nbformat_minor": 2
}
