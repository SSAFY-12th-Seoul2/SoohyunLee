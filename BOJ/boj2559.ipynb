{
 "cells": [
  {
   "cell_type": "markdown",
   "metadata": {},
   "source": [
    "**[boj2559 수열, 실버3](https://www.acmicpc.net/problem/2559)**"
   ]
  },
  {
   "cell_type": "markdown",
   "metadata": {},
   "source": [
    "Sliding Window Algorithm"
   ]
  },
  {
   "cell_type": "code",
   "execution_count": 1,
   "metadata": {},
   "outputs": [],
   "source": [
    "import sys\n",
    "n, k = map(int, sys.stdin.readline().split()) # 전체 날짜 수, 합을 구하기 위한 연속적인 날짜\n",
    "numbers = list(map(int, sys.stdin.readline().split()))\n",
    "\n",
    "window = sum(numbers[:k])\n",
    "result = window\n",
    "\n",
    "for i in range(k, n):\n",
    "    window += numbers[i] - numbers[i-k]\n",
    "    result = max(result, window)\n",
    "\n",
    "print(result)"
   ]
  }
 ],
 "metadata": {
  "kernelspec": {
   "display_name": "Python 3",
   "language": "python",
   "name": "python3"
  },
  "language_info": {
   "codemirror_mode": {
    "name": "ipython",
    "version": 3
   },
   "file_extension": ".py",
   "mimetype": "text/x-python",
   "name": "python",
   "nbconvert_exporter": "python",
   "pygments_lexer": "ipython3",
   "version": "3.9.13"
  }
 },
 "nbformat": 4,
 "nbformat_minor": 2
}
