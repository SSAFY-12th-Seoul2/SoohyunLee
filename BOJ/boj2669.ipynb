{
 "cells": [
  {
   "cell_type": "markdown",
   "metadata": {},
   "source": [
    "**[boj2669 직사각형 네개의 합집합의 면적 구하기]**  \n",
    "평면에 네 개의 직사각형이 놓여 있는데 그 밑변은 모두 가로축에 평행하다. 이 네 개의 직사각형들은 서로 떨어져 있을 수도 있고, 겹쳐 있을 수도 있고, 하나가 다른 하나를 포함할 수도 있으며, 변이나 꼭짓점이 겹칠 수도 있다.\n",
    "\n",
    "이 직사각형들이 차지하는 면적을 구하는 프로그램을 작성하시오."
   ]
  },
  {
   "cell_type": "markdown",
   "metadata": {},
   "source": [
    "1. 리스트를 활용한 문제 풀이"
   ]
  },
  {
   "cell_type": "code",
   "execution_count": 2,
   "metadata": {},
   "outputs": [
    {
     "name": "stdout",
     "output_type": "stream",
     "text": [
      "26\n"
     ]
    }
   ],
   "source": [
    "grid = [[0]*101 for _ in range(101)]\n",
    "area = 0\n",
    "for _ in range(4):\n",
    "    x1, y1, x2, y2 = map(int, input().split())\n",
    "    # x1, x2 => column 위치가 바뀜\n",
    "    for c in range(x1, x2):\n",
    "        # y1, y2 => row 위치가 바뀜\n",
    "         for r in range(y1, y2):\n",
    "            if grid[r][c] == 0:\n",
    "                grid[r][c] += 1\n",
    "                area += 1\n",
    "    \n",
    "print(area)"
   ]
  },
  {
   "cell_type": "markdown",
   "metadata": {},
   "source": [
    "2. 세트를 활용한 문제 풀이"
   ]
  },
  {
   "cell_type": "code",
   "execution_count": 3,
   "metadata": {},
   "outputs": [
    {
     "name": "stdout",
     "output_type": "stream",
     "text": [
      "26\n"
     ]
    }
   ],
   "source": [
    "coords = set()\n",
    "area = 0\n",
    "for _ in range(4):\n",
    "    x1, y1, x2, y2 = map(int, input().split())\n",
    "    for c in range(x1, x2):\n",
    "        for r in range(y1, y2):\n",
    "            if (c, r) not in coords:\n",
    "                coords.add((c, r))\n",
    "                area += 1\n",
    "\n",
    "print(area)"
   ]
  }
 ],
 "metadata": {
  "kernelspec": {
   "display_name": "Python 3",
   "language": "python",
   "name": "python3"
  },
  "language_info": {
   "codemirror_mode": {
    "name": "ipython",
    "version": 3
   },
   "file_extension": ".py",
   "mimetype": "text/x-python",
   "name": "python",
   "nbconvert_exporter": "python",
   "pygments_lexer": "ipython3",
   "version": "3.9.13"
  }
 },
 "nbformat": 4,
 "nbformat_minor": 2
}
