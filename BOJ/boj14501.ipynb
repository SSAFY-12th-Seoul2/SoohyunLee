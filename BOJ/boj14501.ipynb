{
 "cells": [
  {
   "cell_type": "markdown",
   "metadata": {},
   "source": [
    "boj14501 풀이"
   ]
  },
  {
   "cell_type": "code",
   "execution_count": 3,
   "metadata": {},
   "outputs": [
    {
     "name": "stdout",
     "output_type": "stream",
     "text": [
      "45\n"
     ]
    }
   ],
   "source": [
    "tc = int(input())\n",
    "t = [0]*tc\n",
    "p = [0]*tc\n",
    "\n",
    "for i in range(tc):\n",
    "    t[i], p[i] = map(int, input().split())\n",
    "\n",
    "sum_p = [0]*(tc+1)\n",
    "max_value = 0\n",
    "\n",
    "for i in range(tc-1, -1, -1):\n",
    "    time = t[i]+i\n",
    "    if time <= tc:\n",
    "        sum_p[i] = max(p[i]+sum_p[time], max_value)\n",
    "        max_value = sum_p[i]\n",
    "    else:\n",
    "        sum_p[i] = max_value\n",
    "\n",
    "print(max_value)"
   ]
  },
  {
   "cell_type": "code",
   "execution_count": 2,
   "metadata": {},
   "outputs": [
    {
     "name": "stdout",
     "output_type": "stream",
     "text": [
      "[3, 5, 1, 1, 2, 4, 2]\n",
      "[10, 20, 10, 20, 15, 40, 200]\n",
      "i:6, max_value:0, sum_p:[0, 0, 0, 0, 0, 0, 0, 0]\n",
      "i:5, max_value:0, sum_p:[0, 0, 0, 0, 0, 0, 0, 0]\n",
      "i:4, max_value:15, sum_p:[0, 0, 0, 0, 15, 0, 0, 0]\n",
      "i:3, max_value:35, sum_p:[0, 0, 0, 35, 15, 0, 0, 0]\n",
      "i:2, max_value:45, sum_p:[0, 0, 45, 35, 15, 0, 0, 0]\n",
      "i:1, max_value:45, sum_p:[0, 45, 45, 35, 15, 0, 0, 0]\n",
      "i:0, max_value:45, sum_p:[45, 45, 45, 35, 15, 0, 0, 0]\n",
      "45\n"
     ]
    }
   ],
   "source": [
    "tc = int(input())\n",
    "t = [0]*tc\n",
    "p = [0]*tc\n",
    "\n",
    "for i in range(tc):\n",
    "    t[i], p[i] = map(int, input().split())\n",
    "\n",
    "sum_p = [0]*(tc+1)\n",
    "max_value = 0\n",
    "\n",
    "print(t)\n",
    "print(p)\n",
    "\n",
    "for i in range(tc-1, -1, -1):\n",
    "    time = t[i]+i\n",
    "    if time <= tc:\n",
    "        sum_p[i] = max(p[i]+sum_p[time], max_value)\n",
    "        max_value = sum_p[i]\n",
    "    else:\n",
    "        sum_p[i] = max_value\n",
    "    print(f'i:{i}, max_value:{max_value}, sum_p:{sum_p}')\n",
    "\n",
    "print(max_value)"
   ]
  },
  {
   "cell_type": "markdown",
   "metadata": {},
   "source": [
    "![boj14501-1](..\\image\\boj14501-1.jpg)"
   ]
  },
  {
   "cell_type": "code",
   "execution_count": 4,
   "metadata": {},
   "outputs": [
    {
     "name": "stdout",
     "output_type": "stream",
     "text": [
      "[5, 4, 3, 2, 1, 1, 2, 3, 4, 5]\n",
      "[50, 40, 30, 20, 10, 10, 20, 30, 40, 50]\n",
      "i:9, max_value:0, sum_p:[0, 0, 0, 0, 0, 0, 0, 0, 0, 0, 0]\n",
      "i:8, max_value:0, sum_p:[0, 0, 0, 0, 0, 0, 0, 0, 0, 0, 0]\n",
      "i:7, max_value:30, sum_p:[0, 0, 0, 0, 0, 0, 0, 30, 0, 0, 0]\n",
      "i:6, max_value:30, sum_p:[0, 0, 0, 0, 0, 0, 30, 30, 0, 0, 0]\n",
      "i:5, max_value:40, sum_p:[0, 0, 0, 0, 0, 40, 30, 30, 0, 0, 0]\n",
      "i:4, max_value:50, sum_p:[0, 0, 0, 0, 50, 40, 30, 30, 0, 0, 0]\n",
      "i:3, max_value:60, sum_p:[0, 0, 0, 60, 50, 40, 30, 30, 0, 0, 0]\n",
      "i:2, max_value:70, sum_p:[0, 0, 70, 60, 50, 40, 30, 30, 0, 0, 0]\n",
      "i:1, max_value:80, sum_p:[0, 80, 70, 60, 50, 40, 30, 30, 0, 0, 0]\n",
      "i:0, max_value:90, sum_p:[90, 80, 70, 60, 50, 40, 30, 30, 0, 0, 0]\n",
      "90\n"
     ]
    }
   ],
   "source": [
    "tc = int(input())\n",
    "t = [0]*tc\n",
    "p = [0]*tc\n",
    "\n",
    "for i in range(tc):\n",
    "    t[i], p[i] = map(int, input().split())\n",
    "\n",
    "sum_p = [0]*(tc+1)\n",
    "max_value = 0\n",
    "\n",
    "print(t)\n",
    "print(p)\n",
    "\n",
    "for i in range(tc-1, -1, -1):\n",
    "    time = t[i]+i\n",
    "    if time <= tc:\n",
    "        sum_p[i] = max(p[i]+sum_p[time], max_value)\n",
    "        max_value = sum_p[i]\n",
    "    else:\n",
    "        sum_p[i] = max_value\n",
    "    print(f'i:{i}, max_value:{max_value}, sum_p:{sum_p}')\n",
    "\n",
    "print(max_value)"
   ]
  },
  {
   "cell_type": "markdown",
   "metadata": {},
   "source": [
    "![boj14501-1](..\\image\\boj14501-2.jpg)"
   ]
  },
  {
   "cell_type": "markdown",
   "metadata": {},
   "source": []
  }
 ],
 "metadata": {
  "kernelspec": {
   "display_name": "Python 3",
   "language": "python",
   "name": "python3"
  },
  "language_info": {
   "codemirror_mode": {
    "name": "ipython",
    "version": 3
   },
   "file_extension": ".py",
   "mimetype": "text/x-python",
   "name": "python",
   "nbconvert_exporter": "python",
   "pygments_lexer": "ipython3",
   "version": "3.9.13"
  }
 },
 "nbformat": 4,
 "nbformat_minor": 2
}
