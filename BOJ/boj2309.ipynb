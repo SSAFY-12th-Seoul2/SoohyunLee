{
 "cells": [
  {
   "cell_type": "markdown",
   "metadata": {},
   "source": [
    "**[boj2309 일곱난쟁이]**   \n",
    "입력: 아홉 개의 줄에 걸쳐 난쟁이들의 키가 주어진다. 주어지는 키는 100을 넘지 않는 자연수이며, 아홉 난쟁이의 키는 모두 다르며, 가능한 정답이 여러 가지인 경우에는 아무거나 출력한다.  \n",
    "출력: 일곱 난쟁이의 키를 오름차순으로 출력한다. 일곱 난쟁이를 찾을 수 없는 경우는 없다."
   ]
  },
  {
   "cell_type": "code",
   "execution_count": 2,
   "metadata": {},
   "outputs": [
    {
     "name": "stdout",
     "output_type": "stream",
     "text": [
      "7\n",
      "8\n",
      "10\n",
      "13\n",
      "19\n",
      "20\n",
      "23\n"
     ]
    }
   ],
   "source": [
    "def find_true(lst):\n",
    "    extra = sum(lst)-100 # 키의 모든 값을 합해서 100보다 얼마나 큰지 확인하기\n",
    "    while len(lst) > 7:\n",
    "        # 하나 꺼내면서\n",
    "        h = lst.pop(0)\n",
    "        # 남은 리스트에 짝꿍이 있는지 확인 하기\n",
    "        if extra-h in lst:\n",
    "            # 있다면 제거\n",
    "            lst.remove(extra-h)\n",
    "        else: \n",
    "            # 없다면 다시 뒤로 넣기\n",
    "            lst.append(h)\n",
    "\n",
    "    result = lst\n",
    "    result.sort() # 정렬\n",
    "\n",
    "    return result\n",
    "\n",
    "height_list = [int(input()) for _ in range(9)] # 아홉 난쟁이 입력\n",
    "\n",
    "height_list = find_true(height_list) # 일곱난쟁이 찾기\n",
    "for v in height_list:\n",
    "    print(v) # 출력"
   ]
  }
 ],
 "metadata": {
  "kernelspec": {
   "display_name": "Python 3",
   "language": "python",
   "name": "python3"
  },
  "language_info": {
   "codemirror_mode": {
    "name": "ipython",
    "version": 3
   },
   "file_extension": ".py",
   "mimetype": "text/x-python",
   "name": "python",
   "nbconvert_exporter": "python",
   "pygments_lexer": "ipython3",
   "version": "3.9.13"
  }
 },
 "nbformat": 4,
 "nbformat_minor": 2
}
